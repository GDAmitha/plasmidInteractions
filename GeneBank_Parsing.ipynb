{
  "cells": [
    {
      "cell_type": "markdown",
      "metadata": {
        "id": "view-in-github",
        "colab_type": "text"
      },
      "source": [
        "<a href=\"https://colab.research.google.com/github/GDAmitha/plasmidInteractions/blob/main/GeneBank_Parsing.ipynb\" target=\"_parent\"><img src=\"https://colab.research.google.com/assets/colab-badge.svg\" alt=\"Open In Colab\"/></a>"
      ]
    },
    {
      "cell_type": "code",
      "execution_count": null,
      "metadata": {
        "colab": {
          "base_uri": "https://localhost:8080/"
        },
        "id": "Yilmy-hh7-xL",
        "outputId": "0840f299-039a-46cb-d6b5-5461641c83d3"
      },
      "outputs": [
        {
          "name": "stdout",
          "output_type": "stream",
          "text": [
            "Collecting biopython\n",
            "  Downloading biopython-1.81-cp310-cp310-manylinux_2_17_x86_64.manylinux2014_x86_64.whl (3.1 MB)\n",
            "\u001b[2K     \u001b[90m━━━━━━━━━━━━━━━━━━━━━━━━━━━━━━━━━━━━━━━━\u001b[0m \u001b[32m3.1/3.1 MB\u001b[0m \u001b[31m15.0 MB/s\u001b[0m eta \u001b[36m0:00:00\u001b[0m\n",
            "\u001b[?25hRequirement already satisfied: numpy in /usr/local/lib/python3.10/dist-packages (from biopython) (1.23.5)\n",
            "Installing collected packages: biopython\n",
            "Successfully installed biopython-1.81\n"
          ]
        }
      ],
      "source": [
        "!pip install biopython"
      ]
    },
    {
      "cell_type": "code",
      "execution_count": null,
      "metadata": {
        "id": "LmH2weMF7ZO0"
      },
      "outputs": [],
      "source": [
        "from Bio import SeqIO\n",
        "from Bio.SeqUtils import GC\n",
        "import collections\n",
        "\n",
        "def analyze_gene_sequence(genbank_file):\n",
        "    # Parse the GenBank file\n",
        "    #record = SeqIO.read(genbank_file, \"genbank\")\n",
        "    full_sequence = str(record.seq)\n",
        "\n",
        "    # Extract features\n",
        "    feature_list = [{\"type\": feature.type, \"location\": str(feature.location)} for feature in record.features]\n",
        "\n",
        "    # Gene structure (simplified for this example)\n",
        "    gene_structure = {\"coding_sequences\": [], \"introns\": [], \"exons\": []}\n",
        "    for feature in record.features:\n",
        "        if feature.type == \"CDS\":\n",
        "            gene_structure[\"coding_sequences\"].append(str(feature.location))\n",
        "        # Introns and exons can be added similarly\n",
        "\n",
        "    # K-mer distribution (example with k=3)\n",
        "    kmer_size = 3\n",
        "    kmer_distribution = collections.Counter([full_sequence[i:i+kmer_size] for i in range(len(full_sequence) - kmer_size + 1)])\n",
        "\n",
        "    # Physicochemical properties\n",
        "    physicochemical_properties = {\"GC_content\": GC(record.seq)}\n",
        "\n",
        "    # Compressed sequence and sketching are more complex and may require additional libraries or custom algorithms\n",
        "\n",
        "    # Compile all information into a dictionary\n",
        "    gene_data = {\n",
        "        \"full_sequence\": full_sequence,\n",
        "        \"feature_list\": feature_list,\n",
        "        \"gene_structure\": gene_structure,\n",
        "        \"kmer_distribution\": kmer_distribution,\n",
        "        \"physicochemical_properties\": physicochemical_properties\n",
        "        # Add other representations as needed\n",
        "    }\n",
        "\n",
        "    return gene_data\n",
        "\n"
      ]
    },
    {
      "cell_type": "code",
      "execution_count": null,
      "metadata": {
        "colab": {
          "background_save": true,
          "base_uri": "https://localhost:8080/"
        },
        "id": "o24lzu4775yt",
        "outputId": "10d9f1b6-42e7-48de-89fe-f897319ff36a"
      },
      "outputs": [
        {
          "name": "stdout",
          "output_type": "stream",
          "text": [
            "Downloading and decompressing gbbct1001.seq.gz...\n",
            "Parsing gbbct1001.seq...\n"
          ]
        },
        {
          "name": "stderr",
          "output_type": "stream",
          "text": [
            "/usr/local/lib/python3.10/dist-packages/Bio/SeqUtils/__init__.py:144: BiopythonDeprecationWarning: GC is deprecated; please use gc_fraction instead.\n",
            "  warnings.warn(\n"
          ]
        },
        {
          "name": "stdout",
          "output_type": "stream",
          "text": [
            "Downloading and decompressing gbbct1002.seq.gz...\n",
            "Parsing gbbct1002.seq...\n",
            "Downloading and decompressing gbbct1003.seq.gz...\n",
            "Parsing gbbct1003.seq...\n",
            "Downloading and decompressing gbbct1004.seq.gz...\n",
            "Parsing gbbct1004.seq...\n",
            "Downloading and decompressing gbbct1005.seq.gz...\n",
            "Parsing gbbct1005.seq...\n"
          ]
        }
      ],
      "source": [
        "import requests\n",
        "import gzip\n",
        "import os\n",
        "from Bio import SeqIO\n",
        "\n",
        "# Function to download and decompress the file\n",
        "def download_and_decompress(url, local_filename):\n",
        "    # Download the file\n",
        "    with requests.get(url, stream=True) as r:\n",
        "        r.raise_for_status()\n",
        "        with open(local_filename, 'wb') as f:\n",
        "            for chunk in r.iter_content(chunk_size=8192):\n",
        "                f.write(chunk)\n",
        "\n",
        "    # Decompress the file\n",
        "    with gzip.open(local_filename, 'rb') as f_in:\n",
        "        with open(local_filename[:-3], 'wb') as f_out:\n",
        "            f_out.write(f_in.read())\n",
        "\n",
        "    os.remove(local_filename)  # Remove the compressed file\n",
        "\n",
        "# Base URL for GenBank sequence files\n",
        "base_url = \"https://ftp.ncbi.nih.gov/genbank/\"\n",
        "\n",
        "# Files to download and parse\n",
        "files = [\"gbbct1001.seq.gz\", \"gbbct1002.seq.gz\", \"gbbct1003.seq.gz\", \"gbbct1004.seq.gz\", \"gbbct1005.seq.gz\"]\n",
        "\n",
        "files_to_genedata = {}\n",
        "\n",
        "for file in files:\n",
        "    url = base_url + file\n",
        "    local_filename = file\n",
        "    print(f\"Downloading and decompressing {file}...\")\n",
        "    download_and_decompress(url, local_filename)\n",
        "\n",
        "    # Parse the decompressed file\n",
        "    print(f\"Parsing {local_filename[:-3]}...\")\n",
        "    with open(local_filename[:-3], \"r\") as handle:\n",
        "        for record in SeqIO.parse(handle, \"genbank\"):\n",
        "            gene_data = analyze_gene_sequence(record)\n",
        "            # Call your previously defined function here\n",
        "            # gene_data = analyze_gene_sequence(record)\n",
        "            # Process the gene_data as needed\n",
        "            gene_data = analyze_gene_sequence(record)\n",
        "            files_to_genedata[record.name] = gene_data\n",
        "            pass\n",
        "\n",
        "    os.remove(local_filename[:-3])  # Remove the decompressed file\n",
        "\n",
        "\n",
        "\n",
        "# Example usage\n",
        "#genbank_file = \"path_to_your_genbank_file.gb\"\n",
        "#print(gene_data)"
      ]
    },
    {
      "cell_type": "code",
      "execution_count": null,
      "metadata": {
        "id": "i6gzbXsi9rBi",
        "colab": {
          "base_uri": "https://localhost:8080/"
        },
        "outputId": "129b140a-ff27-449b-c11d-f5c3a33c8170"
      },
      "outputs": [
        {
          "output_type": "stream",
          "name": "stdout",
          "text": [
            "Mounted at /content/drive\n"
          ]
        }
      ],
      "source": [
        "from google.colab import drive\n",
        "drive.mount('/content/drive')"
      ]
    },
    {
      "cell_type": "code",
      "source": [
        "def write_gene_data_to_file(files_to_genedata, filename):\n",
        "    with open(filename, 'w') as file:\n",
        "        json.dump(files_to_genedata, file, indent=4)"
      ],
      "metadata": {
        "id": "ztTzPe4_EzWT"
      },
      "execution_count": null,
      "outputs": []
    },
    {
      "cell_type": "code",
      "source": [
        "import json\n",
        "write_gene_data_to_file(files_to_genedata, 'gene_data_output.json')"
      ],
      "metadata": {
        "id": "PU4byXouE7kz"
      },
      "execution_count": null,
      "outputs": []
    },
    {
      "cell_type": "markdown",
      "source": [
        "The output file is currently 1 GB rn!"
      ],
      "metadata": {
        "id": "PwRVml67Ftze"
      }
    },
    {
      "cell_type": "markdown",
      "source": [
        "# New Section"
      ],
      "metadata": {
        "id": "zRQTadC5FCXs"
      }
    },
    {
      "cell_type": "code",
      "source": [
        "from google.colab import files\n",
        "\n",
        "files.download('gene_data_output.json')"
      ],
      "metadata": {
        "colab": {
          "base_uri": "https://localhost:8080/",
          "height": 34
        },
        "id": "wZY67ldXHZsl",
        "outputId": "066c8908-80ae-45ca-8a17-4935e866121d"
      },
      "execution_count": null,
      "outputs": [
        {
          "output_type": "display_data",
          "data": {
            "text/plain": [
              "<IPython.core.display.Javascript object>"
            ],
            "application/javascript": [
              "\n",
              "    async function download(id, filename, size) {\n",
              "      if (!google.colab.kernel.accessAllowed) {\n",
              "        return;\n",
              "      }\n",
              "      const div = document.createElement('div');\n",
              "      const label = document.createElement('label');\n",
              "      label.textContent = `Downloading \"${filename}\": `;\n",
              "      div.appendChild(label);\n",
              "      const progress = document.createElement('progress');\n",
              "      progress.max = size;\n",
              "      div.appendChild(progress);\n",
              "      document.body.appendChild(div);\n",
              "\n",
              "      const buffers = [];\n",
              "      let downloaded = 0;\n",
              "\n",
              "      const channel = await google.colab.kernel.comms.open(id);\n",
              "      // Send a message to notify the kernel that we're ready.\n",
              "      channel.send({})\n",
              "\n",
              "      for await (const message of channel.messages) {\n",
              "        // Send a message to notify the kernel that we're ready.\n",
              "        channel.send({})\n",
              "        if (message.buffers) {\n",
              "          for (const buffer of message.buffers) {\n",
              "            buffers.push(buffer);\n",
              "            downloaded += buffer.byteLength;\n",
              "            progress.value = downloaded;\n",
              "          }\n",
              "        }\n",
              "      }\n",
              "      const blob = new Blob(buffers, {type: 'application/binary'});\n",
              "      const a = document.createElement('a');\n",
              "      a.href = window.URL.createObjectURL(blob);\n",
              "      a.download = filename;\n",
              "      div.appendChild(a);\n",
              "      a.click();\n",
              "      div.remove();\n",
              "    }\n",
              "  "
            ]
          },
          "metadata": {}
        },
        {
          "output_type": "display_data",
          "data": {
            "text/plain": [
              "<IPython.core.display.Javascript object>"
            ],
            "application/javascript": [
              "download(\"download_8d2207f4-8380-4b2b-8dff-96c4e2de19c6\", \"gene_data_output.json\", 1173459551)"
            ]
          },
          "metadata": {}
        }
      ]
    },
    {
      "cell_type": "code",
      "source": [
        "\n",
        "# Path in your Google Drive where you want to save the file\n",
        "# path_to_save = '/content/drive/My Drive/gene_data_output.json'\n",
        "\n",
        "# # Assuming 'all_feature_lists' is your data\n",
        "# with open(path_to_save, 'w') as file:\n",
        "#     json.dump(all_feature_lists, file, indent=4)\n",
        "from google.colab import drive\n",
        "drive.mount('/content/drive')\n",
        "\n",
        "import gzip\n",
        "import shutil\n",
        "\n",
        "with open('/content/drive/My Drive/gene_data_output.json', 'rb') as f_in:\n",
        "    with gzip.open('/content/drive/My Drive/gene_data_output.json.gz', 'wb') as f_out:\n",
        "        shutil.copyfileobj(f_in, f_out)\n"
      ],
      "metadata": {
        "colab": {
          "base_uri": "https://localhost:8080/"
        },
        "id": "41TTywFKHdjc",
        "outputId": "e9a455b9-140b-418f-c7e5-72ea2d98e5ea"
      },
      "execution_count": null,
      "outputs": [
        {
          "output_type": "stream",
          "name": "stdout",
          "text": [
            "Drive already mounted at /content/drive; to attempt to forcibly remount, call drive.mount(\"/content/drive\", force_remount=True).\n"
          ]
        }
      ]
    },
    {
      "cell_type": "code",
      "source": [
        "/content/gene_data_output.json"
      ],
      "metadata": {
        "id": "Cv7SoajOIiVz"
      },
      "execution_count": null,
      "outputs": []
    }
  ],
  "metadata": {
    "colab": {
      "provenance": [],
      "mount_file_id": "1fGGDRGvpGtEdpMPvOevgzXW83KjJBbg7",
      "authorship_tag": "ABX9TyOIxWdvN9atwbs0S6MVKZcw",
      "include_colab_link": true
    },
    "kernelspec": {
      "display_name": "Python 3",
      "name": "python3"
    },
    "language_info": {
      "name": "python"
    }
  },
  "nbformat": 4,
  "nbformat_minor": 0
}